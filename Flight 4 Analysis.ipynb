{
 "cells": [
  {
   "cell_type": "code",
   "execution_count": 249,
   "metadata": {},
   "outputs": [],
   "source": [
    "import matplotlib.pyplot as plt\n",
    "import pandas as pd\n",
    "import numpy as np\n",
    "from decimal import Decimal \n",
    "from datetime import datetime\n",
    "import math"
   ]
  },
  {
   "cell_type": "code",
   "execution_count": 250,
   "metadata": {},
   "outputs": [],
   "source": [
    "df = pd.read_csv ('Newfile_RF-04_DISCOVER-AQ', dtype='float', na_values = '-999999')"
   ]
  },
  {
   "cell_type": "code",
   "execution_count": 251,
   "metadata": {},
   "outputs": [],
   "source": [
    "derivative = df['GPS_ALT'].diff(periods=30) / df['UTC'].diff(periods=30) \n",
    "df['trend'] = derivative.gt(0).map({False: -1, True: 1})\n",
    "t = df['trend'].to_numpy() "
   ]
  },
  {
   "cell_type": "code",
   "execution_count": 252,
   "metadata": {},
   "outputs": [],
   "source": [
    "def dataset(trend):\n",
    "    if trend >= 0:\n",
    "        \n",
    "        '''Flight observations while the plane is going up == Difference in altitude for subsequnt points is always poistive.\n",
    "           So, the difference will be negative whenever the plane starts to come down.\n",
    "           Divide the dataset according to indices when the plane starts coming down'''\n",
    "        \n",
    "        idx = df.index[df['trend'] == 1].dropna()\n",
    "        dataset_profile = df.loc[idx].dropna(subset=['GPS_ALT', 'THETA'])\n",
    "        reqd_Index = np.where(dataset_profile['GPS_ALT'].diff() < -1.0)\n",
    "    else:\n",
    "        \n",
    "        '''Flight observations while the plane is coming down == Difference in altitude for subsequnt points is always negative.\n",
    "           Divide the dataset according to indices when the plane starts going up and the difference becomes positive'''\n",
    "        \n",
    "        idx = df.index[df['trend'] == -1].dropna()\n",
    "        dataset_profile = df.loc[idx].dropna(subset=['GPS_ALT', 'THETA'])\n",
    "        reqd_Index = np.where(dataset_profile['GPS_ALT'].diff() > 1.0)\n",
    "    \n",
    "    final_index = np.asarray(reqd_Index[0])\n",
    "    diff = np.diff(final_index)\n",
    "    empty_array = np.arange(0,len(diff),1)\n",
    "        \n",
    "    df_list=[]\n",
    "    i = 0\n",
    "    for i in empty_array:\n",
    "        start = final_index[i]\n",
    "        end = diff[i]+start\n",
    "        dfx = dataset_profile.iloc[start:end]\n",
    "        df_list.append(dfx)\n",
    "    return df_list\n",
    "\n",
    "Up_sounding = dataset(1)\n",
    "Down_sounding = dataset(-1)\n"
   ]
  },
  {
   "cell_type": "code",
   "execution_count": 253,
   "metadata": {},
   "outputs": [
    {
     "name": "stdout",
     "output_type": "stream",
     "text": [
      "[151.59, 1520.12, 4008.2000000000003, 335.96, 4345.98, 359.21999999999997, 348.49, 2754.6499999999996, 603.0799999999999, 351.71000000000004, 1599.48] Units in m\n",
      "[109.78, 297.48999999999995, 4630.25, 295.9, 4024.22, 568.1, 1566.0, 4639.86, 3781.61, 3986.52, 348.74] Units in m\n"
     ]
    }
   ],
   "source": [
    "'''Determine Boundary Layer from Potential Temperature Gradient Method'''\n",
    "\n",
    "def bl_grad(dataframe):\n",
    "    alt = dataframe['GPS_ALT']*1000\n",
    "    theta = dataframe['THETA']\n",
    "    derivative = ((theta.diff()/alt.diff()).dropna()).to_numpy()\n",
    "    alt_numpy = alt[1:].to_numpy()\n",
    "    bl_value = alt_numpy[derivative.argmax()]\n",
    "    return bl_value\n",
    "\n",
    "bl_list_ascent =[]\n",
    "bl_list_descent = []\n",
    "\n",
    "dataset = 0\n",
    "for dataset in Up_sounding:\n",
    "    bl_value = bl_grad(dataset)\n",
    "    bl_list_ascent.append(bl_value)\n",
    "    dataset+=1\n",
    "\n",
    "print(bl_list_ascent,\"Units in m\")\n",
    "\n",
    "dataset = 0\n",
    "for dataset in Down_sounding:\n",
    "    bl_value = bl_grad(dataset)\n",
    "    bl_list_descent.append(bl_value)\n",
    "    dataset+=1\n",
    "\n",
    "print(bl_list_descent,\"Units in m\")"
   ]
  },
  {
   "cell_type": "code",
   "execution_count": 254,
   "metadata": {},
   "outputs": [],
   "source": [
    "def consecutive_avg(x,y):\n",
    "    x = y = pd.DataFrame()\n",
    "    i = 0\n",
    "    for i in x:\n",
    "        for i in y:\n",
    "            avg = (x[i]+x[i+1])/(y[i+1]-y[i])\n",
    "    return avg\n"
   ]
  },
  {
   "cell_type": "code",
   "execution_count": 256,
   "metadata": {},
   "outputs": [],
   "source": [
    "'''Determination of BL via Bulk Richardson Number technique'''\n",
    "\n",
    "def bl_richard(dataframe, threshold):\n",
    "    g = 9.8 #Gravitational Acceleration\n",
    "    df[\"WND\"] = [math.radians(i) for i in df[\"WND\"]]\n",
    "    df[\"WND\"] = [math.sin(i) for i in df[\"WND\"]]\n",
    "    alt = dataframe['GPS_ALT']*1000\n",
    "    u = dataframe[\"WNS\"]*(dataframe[\"WND\"])\n",
    "    v = dataframe[\"WND\"]*(dataframe[\"WND\"])\n",
    "    delta_u = u.diff()\n",
    "    delta_v = v.diff()\n",
    "    delta_theta = dataframe[\"THETA\"].diff()\n",
    "    delta_alt = dataframe[\"GPS_ALT\"].diff()\n",
    "    avg_theta = dataframe[\"THETA\"].rolling(2).sum()/2\n",
    "    \n",
    "    richard_no = (g * delta_alt * delta_theta)/(avg_theta * (delta_u**2 + delta_v**2))\n",
    "    ind = np.where(richard_no > threshold)\n",
    "    # print(ind[0][0])\n",
    "    \n",
    "    bl_value = alt.to_numpy()[ind[0]]\n",
    "    return bl_value\n",
    "\n",
    "bl_richard_ascent = []\n",
    "\n",
    "for dataset in Up_sounding:\n",
    "    bl_value = bl_richard(dataset, 0.5)\n",
    "    bl_richard_ascent.append(bl_value)\n",
    "    dataset+=1\n",
    "    \n",
    "# print(bl_richard_ascent[0])\n",
    "\n",
    "\n",
    "                "
   ]
  },
  {
   "cell_type": "code",
   "execution_count": 100,
   "metadata": {},
   "outputs": [],
   "source": [
    "# ''' View al the ascent soundings and pbl values'''\n",
    "# nrow=4\n",
    "# ncol=3\n",
    "\n",
    "# fig, axes = plt.subplots(nrow, ncol, figsize = (8,14), sharex=True, sharey=True)\n",
    "# plt.suptitle('Potential Temperature Profiles(K): Flight Ascent (2013/9/12)', fontsize = 15)\n",
    "\n",
    "# count=0\n",
    "# for r in range(nrow):\n",
    "#     for c in range(ncol):\n",
    "#         ax = Up_sounding[count].plot(ax=axes[r,c],y = \"GPS_ALT\", x = \"THETA\", label=\"Theta\")\n",
    "#         ax.axhline(y = bl_list_ascent[count], color ='r')\n",
    "#         count+=1\n",
    "# plt.legend()        \n",
    "# plt.tight_layout()\n",
    "# plt.show()\n",
    "\n",
    "\n"
   ]
  },
  {
   "cell_type": "code",
   "execution_count": 8,
   "metadata": {},
   "outputs": [
    {
     "data": {
      "text/plain": [
       "'View the ascent and descent profiles of airplane altitude with respect to time'"
      ]
     },
     "execution_count": 8,
     "metadata": {},
     "output_type": "execute_result"
    }
   ],
   "source": [
    "'''View the ascent and descent profiles of airplane altitude with respect to time'''\n",
    "# nrow=4\n",
    "# ncol=3\n",
    "\n",
    "# fig, axes = plt.subplots(nrow, ncol, figsize = (8,14), sharey=True)\n",
    "# plt.suptitle('Flight Profiles', fontsize = 15)\n",
    "\n",
    "# count=0\n",
    "# for r in range(nrow):\n",
    "#     for c in range(ncol):\n",
    "#         ax1 = Up_sounding[count].plot(ax=axes[r,c],y = \"GPS_ALT\", x = \"UTC\", label=\"Up_Flight Profile\")\n",
    "#         ax2 = ax1.twiny()\n",
    "#         Down_sounding[count].plot(ax=ax2,y = \"GPS_ALT\", x = \"UTC\", color = 'orange', label=\"Down_Flight Profile\")\n",
    "#         plt.tick_params('x', labelbottom=False)\n",
    "#         # ax2.set_xticks((0.5, 1.5, 2.5))\n",
    "#         ax2.set_xlabel(\"Flight Profile\")\n",
    "        \n",
    "# plt.legend()        \n",
    "# plt.tight_layout()\n",
    "# plt.show()"
   ]
  },
  {
   "cell_type": "markdown",
   "metadata": {},
   "source": [
    "# Final Soundings [Up(Blue) and Red(Down) Profiles]"
   ]
  },
  {
   "cell_type": "code",
   "execution_count": 9,
   "metadata": {},
   "outputs": [],
   "source": [
    "# nrow=4\n",
    "# ncol=3\n",
    "\n",
    "# fig, axes = plt.subplots(nrow, ncol, figsize = (8,12), sharex=True, sharey=True)\n",
    "# plt.suptitle('Potential Temperature Profiles(K): Reference Flight 4', fontsize = 15)\n",
    "# axes.axis('off')\n",
    "\n",
    "# count=0\n",
    "# for r in range(nrow):\n",
    "#     for c in range(ncol):\n",
    "#         ax1 = Up_sounding[count].plot(ax=axes[r,c],y = \"GPS_ALT\", x = \"THETA\", label = \"UP\")\n",
    "#         ax1.axis('off')\n",
    "#         ax2 = ax1.twinx()\n",
    "#         Down_sounding[count].plot(y = \"GPS_ALT\", x = \"THETA\", ax=ax2, color = 'red', label = \"DOWN\")\n",
    "#         count+=1     \n",
    "\n",
    "# plt.tight_layout()\n",
    "# plt.show()"
   ]
  }
 ],
 "metadata": {
  "kernelspec": {
   "display_name": "Python 3 (ipykernel)",
   "language": "python",
   "name": "python3"
  },
  "language_info": {
   "codemirror_mode": {
    "name": "ipython",
    "version": 3
   },
   "file_extension": ".py",
   "mimetype": "text/x-python",
   "name": "python",
   "nbconvert_exporter": "python",
   "pygments_lexer": "ipython3",
   "version": "3.9.12"
  }
 },
 "nbformat": 4,
 "nbformat_minor": 4
}
