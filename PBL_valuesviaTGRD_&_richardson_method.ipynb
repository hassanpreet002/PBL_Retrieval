{
 "cells": [
  {
   "cell_type": "code",
   "execution_count": 8,
   "metadata": {},
   "outputs": [],
   "source": [
    "import matplotlib.pyplot as plt\n",
    "import pandas as pd\n",
    "import numpy as np\n",
    "import math"
   ]
  },
  {
   "cell_type": "code",
   "execution_count": 9,
   "metadata": {},
   "outputs": [],
   "source": [
    "df = pd.read_csv ('Newfile_RF-04_DISCOVER-AQ', dtype='float', na_values = '-999999')\n"
   ]
  },
  {
   "cell_type": "code",
   "execution_count": 10,
   "metadata": {},
   "outputs": [],
   "source": [
    "'''Takes + or - trend value and return a list of different dataframes with ascent and descent profiles'''\n",
    "\n",
    "def dataframe(trend):\n",
    "    derivative = df['GPS_ALT'].diff(periods=60) / df['UTC'].diff(periods=60) \n",
    "    df['trend'] = derivative.gt(0).map({False: -1, True: 1})\n",
    "    \n",
    "    if trend >= 0:\n",
    "        \n",
    "        '''Flight observations while the plane is going up == Difference in altitude for subsequnt points is always poistive.\n",
    "           So, the difference will be negative whenever the plane starts to come down.\n",
    "           Divide the dataset according to indices when the plane starts coming down'''\n",
    "        \n",
    "        idx = df.index[df['trend'] == 1].dropna()\n",
    "        dataset_profile = df.loc[idx].dropna(subset=['GPS_ALT', 'THETA'])\n",
    "        reqd_Index = np.where(dataset_profile['GPS_ALT'].diff() < -1.0)\n",
    "        \n",
    "    else:\n",
    "        \n",
    "        '''Flight observations while the plane is coming down == Difference in altitude for subsequnt points is always negative.\n",
    "           Divide the dataset according to indices when the plane starts going up and the difference becomes positive'''\n",
    "        \n",
    "        idx = df.index[df['trend'] == -1].dropna()\n",
    "        dataset_profile = df.loc[idx].dropna(subset=['GPS_ALT', 'THETA'])\n",
    "        reqd_Index = np.where(dataset_profile['GPS_ALT'].diff() > 1.0)\n",
    "    \n",
    "    final_index = np.asarray(reqd_Index[0])\n",
    "    diff = np.diff(final_index)\n",
    "    empty_array = np.arange(0,len(diff),1)\n",
    "        \n",
    "    df_list=[]\n",
    "    i = 0\n",
    "    for i in empty_array:\n",
    "        start = final_index[i]\n",
    "        end = diff[i]+start\n",
    "        dfx = dataset_profile.iloc[start:end]\n",
    "        df_new = dfx.sort_values(by=['GPS_ALT'], ignore_index=True)\n",
    "        df_list.append(df_new)\n",
    "    return df_list"
   ]
  },
  {
   "cell_type": "markdown",
   "metadata": {},
   "source": [
    "Temperature Gradient Method(TGRD) Method. \n",
    "\"The CTBL and CBL are generally capped by a well-defined temperature inversion with a substantial maximum in the lapse rate of potential temperature (Figs. 1 and 2). This property is used to identify h as the base of this enhanced inversion layer from a single sounding.\"\n",
    "\n",
    "Refer to the Method No. 3.2 (Page 6 of 26) in the paper by \n",
    "[Dai et al., 2014](https://link.springer.com/content/pdf/10.1007/s10546-014-9929-z.pdf)\n",
    "\n"
   ]
  },
  {
   "cell_type": "code",
   "execution_count": 11,
   "metadata": {},
   "outputs": [],
   "source": [
    "'''Determine Boundary Layer from Potential Temperature Gradient Method'''\n",
    "\n",
    "def bl_grad(dataframe):\n",
    "    alt = dataframe['GPS_ALT']*1000\n",
    "    theta = dataframe['THETA']\n",
    "\n",
    "    '''Calculate d(theta)/dz'''\n",
    "    derivative = theta.diff(periods = 7).dropna()/alt.diff(periods = 7).dropna()\n",
    "    \n",
    "    '''Calculate the altitude where maximum derivaive ooccurs'''\n",
    "    alt_numpy = alt[7:]\n",
    "    if len(derivative)>0:\n",
    "        bl_value = alt_numpy[derivative.argmax()]\n",
    "        return bl_value\n",
    "    else:\n",
    "        return None\n",
    "    time = pd.to_datetime(dataframe['UTC'],unit='s')\n",
    "    timestamp = statistics.median(time)\n",
    "    return bl_value"
   ]
  },
  {
   "cell_type": "markdown",
   "metadata": {},
   "source": [
    "The vertical gradients in (1) can be approximated with finite differences using adjacent values of the smoothed profiles. It then becomes a bulk Richardson number. Refer to the Method No. 3.3 (Page 10 of 26) in the paper by \n",
    "[Dai et al., 2014](https://link.springer.com/content/pdf/10.1007/s10546-014-9929-z.pdf)\n",
    "\n",
    "\n",
    "The Richardson method is a direct approach for estimating h in practical applications and is widely used in diagnosing h from mesoscale forecast models (Straume et al. 1998; Zilitinkevich and Baklanov 2002; Batchvarova and Gryning 2003; Jericˇevic ́ and Grisogono 2006)."
   ]
  },
  {
   "cell_type": "code",
   "execution_count": 12,
   "metadata": {},
   "outputs": [],
   "source": [
    "'''Determination of BL via Bulk Richardson Number technique'''\n",
    "\n",
    "def bl_richard(dataframe, threshold):\n",
    "    g = 9.8 #Gravitational Acceleration\n",
    "    dataframe = dataframe.dropna(subset=['WND','TAS','THETA','GPS_ALT'])\n",
    "    alt = dataframe['GPS_ALT']*1000\n",
    "    \n",
    "    '''Converting Meteorlogical wind direction to mathematical wind direction'''\n",
    "    math_wd = 270 - dataframe[\"WND\"]\n",
    "    wind_dir = [math.radians(i) for i in math_wd]\n",
    "    \n",
    "    '''Finding u and v components of wind'''\n",
    "    sin_wind = [math.sin(i) for i in wind_dir]\n",
    "    cos_wind = [math.cos(i) for i in wind_dir]\n",
    "    u = dataframe[\"TAS\"]*(cos_wind)\n",
    "    v = dataframe[\"TAS\"]*(sin_wind)\n",
    "    \n",
    "    '''Calculating Bulk Richardson Number'''\n",
    "    delta_u = u.diff()\n",
    "    delta_v = v.diff()\n",
    "    delta_theta = dataframe[\"THETA\"].diff()\n",
    "    delta_alt = dataframe[\"GPS_ALT\"].diff()\n",
    "    avg_theta = dataframe[\"THETA\"].rolling(2).mean()\n",
    "    \n",
    "    richard_no = (g * delta_alt * delta_theta)/(avg_theta * (delta_u**2 + delta_v**2))\n",
    "    richard_no = richard_no.dropna()\n",
    "    \n",
    "    '''Calculating the altitude index where Bulk Richardson number reaches the threshold''' \n",
    "    ind = np.where(richard_no > threshold)\n",
    "    if len(ind[0])<1:\n",
    "        return None\n",
    "    else:\n",
    "        alt = alt[1:].to_numpy()\n",
    "        bl_value = alt[ind[0][0]]\n",
    "    return bl_value\n",
    "\n"
   ]
  },
  {
   "cell_type": "code",
   "execution_count": 17,
   "metadata": {},
   "outputs": [],
   "source": [
    "Up_sounding = dataframe(1)\n",
    "Down_sounding = dataframe(-1)\n",
    "\n",
    "bl_theta_ascent =[]\n",
    "bl_theta_descent = []\n",
    "bl_richard_ascent = []\n",
    "bl_richard_descent = []\n",
    "bl_ascent_UTC = []\n",
    "\n",
    "count = 0\n",
    "for count in Up_sounding:\n",
    "    bl_value0 = bl_grad(count)\n",
    "    bl_theta_ascent.append(bl_value0)\n",
    "    bl_value1 = bl_richard(count, 0.25)\n",
    "    bl_richard_ascent.append(bl_value1)\n",
    "    count+=1\n",
    "\n",
    "for count in Down_sounding:\n",
    "    bl_value0 = bl_grad(count)\n",
    "    bl_theta_descent.append(bl_value0)\n",
    "    bl_value1 = bl_richard(count, 0.25)\n",
    "    bl_richard_descent.append(bl_value1)\n",
    "    count+=1\n",
    "\n",
    "for count in Up_sounding:\n",
    "    time = pd.to_datetime(count['UTC'],unit='s')\n",
    "    tsp = time.median()\n",
    "    bl_ascent_UTC.append(tsp)\n",
    "    count+=1\n",
    "\n"
   ]
  },
  {
   "cell_type": "code",
   "execution_count": 18,
   "metadata": {},
   "outputs": [
    {
     "name": "stdout",
     "output_type": "stream",
     "text": [
      "            bl_ascent_UTC  bl_richard_ascent  bl_theta_ascent  \\\n",
      "0 1970-01-01 14:57:24.000             184.46           283.88   \n",
      "1 1970-01-01 15:41:35.500            4633.17          4630.91   \n",
      "2 1970-01-01 16:24:09.000            4002.85          4010.16   \n",
      "3 1970-01-01 17:01:23.000            4025.35          4015.88   \n",
      "4 1970-01-01 17:41:34.000            4350.74           307.73   \n",
      "5 1970-01-01 18:26:05.000            4386.32          4640.26   \n",
      "6 1970-01-01 19:07:56.000            3989.78          3979.68   \n",
      "7 1970-01-01 19:44:48.000             338.13           317.23   \n",
      "8 1970-01-01 20:24:24.500            4364.41           314.27   \n",
      "9 1970-01-01 21:09:13.500            4618.71          4687.66   \n",
      "\n",
      "   bl_richard_descent  bl_theta_descent  \n",
      "0              114.67            271.89  \n",
      "1              309.73            306.78  \n",
      "2             4153.84           3975.12  \n",
      "3             3975.87            295.53  \n",
      "4             4013.77            129.93  \n",
      "5             4304.14            346.29  \n",
      "6             4634.35           4639.53  \n",
      "7             3968.95            289.36  \n",
      "8              141.90            311.54  \n",
      "9                 NaN            341.18  \n"
     ]
    }
   ],
   "source": [
    "bl_dictionary = {'bl_ascent_UTC':bl_ascent_UTC, 'bl_richard_ascent':bl_richard_ascent,'bl_theta_ascent':bl_theta_ascent,'bl_richard_descent':bl_richard_descent,'bl_theta_descent':bl_theta_descent}\n",
    "bl_values = pd.DataFrame(bl_dictionary)\n",
    "print(bl_values)\n",
    "bl_values.to_csv(r'boundary_layer_values.txt', sep=' ')"
   ]
  },
  {
   "cell_type": "code",
   "execution_count": 8,
   "metadata": {},
   "outputs": [],
   "source": [
    "# '''Final soundings and pbl values'''\n",
    "# nrow=5\n",
    "# ncol=2\n",
    "\n",
    "# fig, axes = plt.subplots(nrow, ncol, figsize = (8,20), sharex=True, sharey=True)\n",
    "# plt.suptitle('Potential Temperature Profiles(K): Flight Soundings', fontsize = 15)\n",
    "\n",
    "# count=0\n",
    "# for r in range(nrow):\n",
    "#     for c in range(ncol):\n",
    "#         ax1 = Up_sounding[count].plot(ax=axes[r,c],y = \"GPS_ALT\", x = \"THETA\", label=\"Up\")\n",
    "#         ax2 = ax1.twiny()\n",
    "#         Down_sounding[count].plot(ax=ax2,y = \"GPS_ALT\", x = \"THETA\", color = 'orange', label=\"Down_Flight Profile\")\n",
    "#         # plt.tick_params('x', labelbottom=False)\n",
    "#         count+=1\n",
    "# plt.legend()        \n",
    "# plt.show()\n",
    "\n",
    "\n"
   ]
  },
  {
   "cell_type": "code",
   "execution_count": null,
   "metadata": {},
   "outputs": [],
   "source": []
  }
 ],
 "metadata": {
  "kernelspec": {
   "display_name": "Python 3 (ipykernel)",
   "language": "python",
   "name": "python3"
  },
  "language_info": {
   "codemirror_mode": {
    "name": "ipython",
    "version": 3
   },
   "file_extension": ".py",
   "mimetype": "text/x-python",
   "name": "python",
   "nbconvert_exporter": "python",
   "pygments_lexer": "ipython3",
   "version": "3.9.12"
  }
 },
 "nbformat": 4,
 "nbformat_minor": 4
}
