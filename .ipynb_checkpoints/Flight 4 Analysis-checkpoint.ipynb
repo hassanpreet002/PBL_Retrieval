{
 "cells": [
  {
   "cell_type": "code",
   "execution_count": 326,
   "metadata": {},
   "outputs": [],
   "source": [
    "import matplotlib.pyplot as plt\n",
    "import pandas as pd\n",
    "import numpy as np\n",
    "import math"
   ]
  },
  {
   "cell_type": "code",
   "execution_count": 327,
   "metadata": {},
   "outputs": [],
   "source": [
    "df = pd.read_csv ('Newfile_RF-04_DISCOVER-AQ', dtype='float', na_values = '-999999')"
   ]
  },
  {
   "cell_type": "code",
   "execution_count": 328,
   "metadata": {},
   "outputs": [],
   "source": [
    "'''Takes + or - trend value and return a list of different dataframes with ascent and descent profiles'''\n",
    "\n",
    "def dataset(trend):\n",
    "    derivative = df['GPS_ALT'].diff(periods=30) / df['UTC'].diff(periods=30) \n",
    "    df['trend'] = derivative.gt(0).map({False: -1, True: 1})\n",
    "    \n",
    "    if trend >= 0:\n",
    "        \n",
    "        '''Flight observations while the plane is going up == Difference in altitude for subsequnt points is always poistive.\n",
    "           So, the difference will be negative whenever the plane starts to come down.\n",
    "           Divide the dataset according to indices when the plane starts coming down'''\n",
    "        \n",
    "        idx = df.index[df['trend'] == 1].dropna()\n",
    "        dataset_profile = df.loc[idx].dropna(subset=['GPS_ALT', 'THETA'])\n",
    "        reqd_Index = np.where(dataset_profile['GPS_ALT'].diff() < -1.0)\n",
    "    else:\n",
    "        \n",
    "        '''Flight observations while the plane is coming down == Difference in altitude for subsequnt points is always negative.\n",
    "           Divide the dataset according to indices when the plane starts going up and the difference becomes positive'''\n",
    "        \n",
    "        idx = df.index[df['trend'] == -1].dropna()\n",
    "        dataset_profile = df.loc[idx].dropna(subset=['GPS_ALT', 'THETA'])\n",
    "        reqd_Index = np.where(dataset_profile['GPS_ALT'].diff() > 1.0)\n",
    "    \n",
    "    final_index = np.asarray(reqd_Index[0])\n",
    "    diff = np.diff(final_index)\n",
    "    empty_array = np.arange(0,len(diff),1)\n",
    "        \n",
    "    df_list=[]\n",
    "    i = 0\n",
    "    for i in empty_array:\n",
    "        start = final_index[i]\n",
    "        end = diff[i]+start\n",
    "        dfx = dataset_profile.iloc[start:end]\n",
    "        df_list.append(dfx)\n",
    "    return df_list\n",
    "\n",
    "Up_sounding = dataset(1)\n",
    "Down_sounding = dataset(-1)\n"
   ]
  },
  {
   "cell_type": "code",
   "execution_count": 377,
   "metadata": {},
   "outputs": [],
   "source": [
    "'''Determine Boundary Layer from Potential Temperature Gradient Method'''\n",
    "\n",
    "def bl_grad(dataframe):\n",
    "    alt = dataframe['GPS_ALT']*1000\n",
    "    alt_avg = alt.rolling(7).mean().dropna()\n",
    "    theta = dataframe['THETA'][6:]\n",
    "    derivative = ((theta.diff().dropna()/alt_avg.diff()).dropna()).to_numpy()\n",
    "    alt_numpy = alt_avg[1:].to_numpy()\n",
    "    if len(derivative)>0:\n",
    "        bl_value = alt_numpy[derivative.argmax()]\n",
    "    else:\n",
    "        return None\n",
    "    return bl_value"
   ]
  },
  {
   "cell_type": "code",
   "execution_count": 378,
   "metadata": {},
   "outputs": [],
   "source": [
    "'''Determination of BL via Bulk Richardson Number technique'''\n",
    "\n",
    "def bl_richard(dataframe, threshold):\n",
    "    g = 9.8 #Gravitational Acceleration\n",
    "    dataframe = dataframe.dropna(subset=['WND','TAS','THETA','GPS_ALT'])\n",
    "    alt = dataframe['GPS_ALT']*1000\n",
    "    \n",
    "    '''Converting Meteorlogical wind direction to mathematical wind direction'''\n",
    "    math_wd = 270 - dataframe[\"WND\"]\n",
    "    \n",
    "    # if math_wd.all()<0:\n",
    "    #     math_wd_corr = 360 + math_wd\n",
    "    #     return math_wd_corr\n",
    "    # else:\n",
    "    #     math_wd_corr = math_wd\n",
    "    #     return math_wd_corr\n",
    "    \n",
    "    wind_dir = [math.radians(i) for i in math_wd]\n",
    "    \n",
    "    '''Finding u and v components of wind'''\n",
    "    sin_wind = [math.sin(i) for i in wind_dir]\n",
    "    cos_wind = [math.cos(i) for i in wind_dir]\n",
    "    u = dataframe[\"TAS\"]*(cos_wind)\n",
    "    v = dataframe[\"TAS\"]*(sin_wind)\n",
    "    \n",
    "    '''Calculating Bulk Richardson Number'''\n",
    "    delta_u = u.diff()\n",
    "    delta_v = v.diff()\n",
    "    delta_theta = dataframe[\"THETA\"].diff()\n",
    "    delta_alt = dataframe[\"GPS_ALT\"].diff()\n",
    "    avg_theta = dataframe[\"THETA\"].rolling(2).sum()/2\n",
    "    \n",
    "    richard_no = (g * delta_alt * delta_theta)/(avg_theta * (delta_u**2 + delta_v**2))\n",
    "    richard_no = richard_no.dropna()\n",
    "    '''Calculating the altitude index where Bulk Richardson number reahes the threshold''' \n",
    "    ind = np.where(richard_no > threshold)\n",
    "    if len(ind[0])<1:\n",
    "        return None\n",
    "    else:\n",
    "        alt = alt[1:].to_numpy()\n",
    "        # print(len(alt), len(richard_no))\n",
    "        bl_value = alt[ind[0][0]]\n",
    "    return bl_value\n",
    "\n"
   ]
  },
  {
   "cell_type": "code",
   "execution_count": 379,
   "metadata": {},
   "outputs": [],
   "source": [
    "bl_theta_ascent =[]\n",
    "bl_theta_descent = []\n",
    "bl_richard_ascent = []\n",
    "bl_richard_descent = []\n",
    "\n",
    "dataset = 0\n",
    "for dataset in Up_sounding:\n",
    "    bl_value0 = bl_grad(dataset)\n",
    "    bl_theta_ascent.append(bl_value0)\n",
    "    bl_value1 = bl_richard(dataset, 0.5)\n",
    "    bl_richard_ascent.append(bl_value1)\n",
    "    dataset+=1\n",
    "\n",
    "for dataset in Down_sounding:\n",
    "    bl_value0 = bl_grad(dataset)\n",
    "    bl_theta_descent.append(bl_value0)\n",
    "    bl_value1 = bl_richard(dataset, 0.5)\n",
    "    bl_richard_descent.append(bl_value1)\n",
    "    dataset+=1\n"
   ]
  },
  {
   "cell_type": "code",
   "execution_count": 380,
   "metadata": {},
   "outputs": [
    {
     "name": "stdout",
     "output_type": "stream",
     "text": [
      "    bl_richard_ascent  bl_theta_ascent  bl_richard_descent  bl_theta_descent\n",
      "0              121.57       282.481429             3947.41        138.201429\n",
      "1              338.54       364.290000             3986.18        306.370000\n",
      "2             3991.47      4010.342857             4630.66       4629.442857\n",
      "3              298.79       302.062857             3975.87       3970.514286\n",
      "4              326.75      4359.224286             4013.77        265.112857\n",
      "5             4386.32      4640.314286             4350.74        349.982857\n",
      "6             3980.21       309.525714                 NaN               NaN\n",
      "7              307.94       294.620000             4639.19         -5.688571\n",
      "8              164.03       153.108571             3968.13        261.398571\n",
      "9              346.82       362.772857             4015.57        141.132857\n",
      "10                NaN      1588.720000                 NaN        337.527143\n"
     ]
    }
   ],
   "source": [
    "bl_dictionary = {'bl_richard_ascent':bl_richard_ascent,'bl_theta_ascent':bl_theta_ascent,'bl_richard_descent':bl_richard_descent,'bl_theta_descent':bl_theta_descent}\n",
    "bl_values = pd.DataFrame(bl_dictionary)\n",
    "print(bl_values)"
   ]
  },
  {
   "cell_type": "code",
   "execution_count": 105,
   "metadata": {},
   "outputs": [],
   "source": [
    "# ''' View al the ascent soundings and pbl values'''\n",
    "# nrow=4\n",
    "# ncol=3\n",
    "\n",
    "# fig, axes = plt.subplots(nrow, ncol, figsize = (8,14), sharex=True, sharey=True)\n",
    "# plt.suptitle('Potential Temperature Profiles(K): Flight Ascent (2013/9/12)', fontsize = 15)\n",
    "\n",
    "# count=0\n",
    "# for r in range(nrow):\n",
    "#     for c in range(ncol):\n",
    "#         ax = Up_sounding[count].plot(ax=axes[r,c],y = \"GPS_ALT\", x = \"THETA\", label=\"Theta\")\n",
    "#         ax.axhline(y = bl_list_ascent[count], color ='r')\n",
    "#         count+=1\n",
    "# plt.legend()        \n",
    "# plt.tight_layout()\n",
    "# plt.show()\n",
    "\n",
    "\n"
   ]
  },
  {
   "cell_type": "code",
   "execution_count": null,
   "metadata": {},
   "outputs": [
    {
     "data": {
      "text/plain": [
       "'View the ascent and descent profiles of airplane altitude with respect to time'"
      ]
     },
     "execution_count": 373,
     "metadata": {},
     "output_type": "execute_result"
    }
   ],
   "source": [
    "'''View the ascent and descent profiles of airplane altitude with respect to time'''\n",
    "# nrow=4\n",
    "# ncol=3\n",
    "\n",
    "# fig, axes = plt.subplots(nrow, ncol, figsize = (8,14), sharey=True)\n",
    "# plt.suptitle('Flight Profiles', fontsize = 15)\n",
    "\n",
    "# count=0\n",
    "# for r in range(nrow):\n",
    "#     for c in range(ncol):\n",
    "#         ax1 = Up_sounding[count].plot(ax=axes[r,c],y = \"GPS_ALT\", x = \"UTC\", label=\"Up_Flight Profile\")\n",
    "#         ax2 = ax1.twiny()\n",
    "#         Down_sounding[count].plot(ax=ax2,y = \"GPS_ALT\", x = \"UTC\", color = 'orange', label=\"Down_Flight Profile\")\n",
    "#         plt.tick_params('x', labelbottom=False)\n",
    "#         # ax2.set_xticks((0.5, 1.5, 2.5))\n",
    "#         ax2.set_xlabel(\"Flight Profile\")\n",
    "        \n",
    "# plt.legend()        \n",
    "# plt.tight_layout()\n",
    "# plt.show()"
   ]
  },
  {
   "cell_type": "markdown",
   "metadata": {},
   "source": [
    "# Final Soundings [Up(Blue) and Red(Down) Profiles]"
   ]
  },
  {
   "cell_type": "code",
   "execution_count": null,
   "metadata": {},
   "outputs": [],
   "source": [
    "# nrow=4\n",
    "# ncol=3\n",
    "\n",
    "# fig, axes = plt.subplots(nrow, ncol, figsize = (8,12), sharex=True, sharey=True)\n",
    "# plt.suptitle('Potential Temperature Profiles(K): Reference Flight 4', fontsize = 15)\n",
    "# axes.axis('off')\n",
    "\n",
    "# count=0\n",
    "# for r in range(nrow):\n",
    "#     for c in range(ncol):\n",
    "#         ax1 = Up_sounding[count].plot(ax=axes[r,c],y = \"GPS_ALT\", x = \"THETA\", label = \"UP\")\n",
    "#         ax1.axis('off')\n",
    "#         ax2 = ax1.twinx()\n",
    "#         Down_sounding[count].plot(y = \"GPS_ALT\", x = \"THETA\", ax=ax2, color = 'red', label = \"DOWN\")\n",
    "#         count+=1     \n",
    "\n",
    "# plt.tight_layout()\n",
    "# plt.show()"
   ]
  }
 ],
 "metadata": {
  "kernelspec": {
   "display_name": "Python 3 (ipykernel)",
   "language": "python",
   "name": "python3"
  },
  "language_info": {
   "codemirror_mode": {
    "name": "ipython",
    "version": 3
   },
   "file_extension": ".py",
   "mimetype": "text/x-python",
   "name": "python",
   "nbconvert_exporter": "python",
   "pygments_lexer": "ipython3",
   "version": "3.9.12"
  }
 },
 "nbformat": 4,
 "nbformat_minor": 4
}
